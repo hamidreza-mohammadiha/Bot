{
 "cells": [
  {
   "cell_type": "code",
   "execution_count": 2,
   "metadata": {},
   "outputs": [
    {
     "name": "stdout",
     "output_type": "stream",
     "text": [
      "Number of unique stops on 15.03.2023: 13467\n",
      "Number of unique stops on 03.08.2023: 0\n"
     ]
    }
   ],
   "source": [
    "import pandas as pd\n",
    "\n",
    "def filter_and_count_unique_stops(file1, file2):\n",
    "    # Read the Excel files\n",
    "    data1 = pd.read_excel(file1)\n",
    "    data2 = pd.read_excel(file2)\n",
    "\n",
    "    # Get the list of 'Güzergah Kodu' from filtered data1\n",
    "    guzergah_kodu_list = data1['Güzergah Kodu'].unique()\n",
    "\n",
    "    # Filter data2 rows where 'Güzergah Kodu' exists in data1's 'Güzergah Kodu' list\n",
    "    final_filtered_data2 = data2[data2['Güzergah Kodu'].isin(guzergah_kodu_list)]\n",
    "\n",
    "    # Calculate the average elevation\n",
    "    average_elevation = final_filtered_data2['Elevation'].mean()\n",
    "\n",
    "    # Calculate the average elevation difference for each 'guzergah kodu'\n",
    "    elevation_diffs = final_filtered_data2.groupby('Güzergah Kodu')['Elevation'].diff().dropna()\n",
    "    average_elevation_diff = elevation_diffs.mean()\n",
    "\n",
    "    # Count unique 'Durak Kodu'\n",
    "    unique_stops = final_filtered_data2['Durak Kodu'].nunique()\n",
    "\n",
    "    Resaults = [unique_stops, average_elevation, average_elevation_diff]\n",
    "\n",
    "    print(\"unique_stops, average_elevation, average_elevation_diff\", Resaults)\n",
    "\n",
    "    return Resaults\n",
    "\n",
    "# Set the file paths for the two Excel files\n",
    "file1_path = \"1.Aguest.xlsx\"\n",
    "file2_path = \"2.xlsx\"\n",
    "\n",
    "# Perform the operations for the two dates\n",
    "unique_stops_15032023 = filter_and_count_unique_stops(file1_path, file2_path)\n"
   ]
  },
  {
   "cell_type": "code",
   "execution_count": null,
   "metadata": {},
   "outputs": [],
   "source": []
  }
 ],
 "metadata": {
  "kernelspec": {
   "display_name": "Python 3",
   "language": "python",
   "name": "python3"
  },
  "language_info": {
   "codemirror_mode": {
    "name": "ipython",
    "version": 3
   },
   "file_extension": ".py",
   "mimetype": "text/x-python",
   "name": "python",
   "nbconvert_exporter": "python",
   "pygments_lexer": "ipython3",
   "version": "3.11.0"
  }
 },
 "nbformat": 4,
 "nbformat_minor": 2
}
